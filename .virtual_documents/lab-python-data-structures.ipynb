





# 1
products = ["t-shirt", "mug", "hat", "book", "keychain"]


# 2
inventory = {}


# 3
print("Please input the quantity of product available in the inventory:")
for product in products:
    inventory[product]= int(input(f"Quantity of {product}:"))


# 4
customer_orders = set()


# 5
while len(customer_orders) != 3:
    order = input(f"What are the three products that you want to order?").strip().lower()
    if order in products:
        customer_orders.add(order)
        print(f"{order} is added to the order list!")
    else:
        print(f"{order} is not available in the products list.")


# 6
print("Your orders: ",customer_orders)


# 7 
total_products_ordered = len(customer_orders)
percentage_products_ordered =  int(len(customer_orders)/len(products)*100)
order_status = (total_products_ordered, percentage_products_ordered)


# 8 
print("Order Statistics:")
print(f"Total Products Ordered: {total_products_ordered}")
print(f"Percentage of Products Ordered: {percentage_products_ordered}%")


# 9
for product in customer_orders:
    inventory[product] -= 1


# 10
print("Updated inventory:")
for product in products:
    print(f"Quantity of {product}:",inventory[product])
