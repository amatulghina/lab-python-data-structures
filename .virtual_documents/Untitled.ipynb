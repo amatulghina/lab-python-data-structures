dict = {}


dict = {"a":5}





dict


dict = {"b":3}


dict


dict["c"]=8


dict


a = set()


type(a)



a.add("apel")


a


a.add("pisang")


a


for i in range(10):
    print(i)


a[1]


len(a)


a


# Using for loop
customer_orders = set()

print("What are the three products that you want to order:")
for i in range(1,4):
    order = input(f"Enter product {i}:").strip().lower()
    if order in products:
        customer_orders.add(order)
    else:
        print(f"{order} is not available in the products list.")
